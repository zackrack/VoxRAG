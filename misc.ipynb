{
 "cells": [
  {
   "cell_type": "code",
   "execution_count": 1,
   "metadata": {},
   "outputs": [
    {
     "name": "stdout",
     "output_type": "stream",
     "text": [
      "Requirement already satisfied: pydub in c:\\users\\zrack\\rag-speech-fusion\\venv\\lib\\site-packages (0.25.1)\n"
     ]
    }
   ],
   "source": [
    "!pip install pydub"
   ]
  },
  {
   "cell_type": "code",
   "execution_count": 8,
   "metadata": {},
   "outputs": [
    {
     "name": "stdout",
     "output_type": "stream",
     "text": [
      "🧩 Detected 39 chunks. Expected 40.\n",
      "💾 Saved: eval/queries_audio\\q01.wav\n",
      "💾 Saved: eval/queries_audio\\q02.wav\n",
      "💾 Saved: eval/queries_audio\\q03.wav\n",
      "💾 Saved: eval/queries_audio\\q04.wav\n",
      "💾 Saved: eval/queries_audio\\q05.wav\n",
      "💾 Saved: eval/queries_audio\\q06.wav\n",
      "💾 Saved: eval/queries_audio\\q07.wav\n",
      "💾 Saved: eval/queries_audio\\q08.wav\n",
      "💾 Saved: eval/queries_audio\\q09.wav\n",
      "💾 Saved: eval/queries_audio\\q10.wav\n",
      "💾 Saved: eval/queries_audio\\q11.wav\n",
      "💾 Saved: eval/queries_audio\\q12.wav\n",
      "💾 Saved: eval/queries_audio\\q13.wav\n",
      "💾 Saved: eval/queries_audio\\q14.wav\n",
      "💾 Saved: eval/queries_audio\\q15.wav\n",
      "💾 Saved: eval/queries_audio\\q16.wav\n",
      "💾 Saved: eval/queries_audio\\q17.wav\n",
      "💾 Saved: eval/queries_audio\\q18.wav\n",
      "💾 Saved: eval/queries_audio\\q19.wav\n",
      "💾 Saved: eval/queries_audio\\q20.wav\n",
      "💾 Saved: eval/queries_audio\\q21.wav\n",
      "💾 Saved: eval/queries_audio\\q22.wav\n",
      "💾 Saved: eval/queries_audio\\q23.wav\n",
      "💾 Saved: eval/queries_audio\\q24.wav\n",
      "💾 Saved: eval/queries_audio\\q25.wav\n",
      "💾 Saved: eval/queries_audio\\q26.wav\n",
      "💾 Saved: eval/queries_audio\\q27.wav\n",
      "💾 Saved: eval/queries_audio\\q28.wav\n",
      "💾 Saved: eval/queries_audio\\q29.wav\n",
      "💾 Saved: eval/queries_audio\\q30.wav\n",
      "💾 Saved: eval/queries_audio\\q31.wav\n",
      "💾 Saved: eval/queries_audio\\q32.wav\n",
      "💾 Saved: eval/queries_audio\\q33.wav\n",
      "💾 Saved: eval/queries_audio\\q34.wav\n",
      "💾 Saved: eval/queries_audio\\q35.wav\n",
      "💾 Saved: eval/queries_audio\\q36.wav\n",
      "💾 Saved: eval/queries_audio\\q37.wav\n",
      "💾 Saved: eval/queries_audio\\q38.wav\n",
      "💾 Saved: eval/queries_audio\\q39.wav\n"
     ]
    }
   ],
   "source": [
    "from pydub import AudioSegment, silence\n",
    "import os\n",
    "\n",
    "INPUT_FILE = \"all_queries.wav\"\n",
    "OUTPUT_DIR = \"eval/queries_audio\"\n",
    "os.makedirs(OUTPUT_DIR, exist_ok=True)\n",
    "\n",
    "# 🎚️ Updated parameters\n",
    "MIN_SILENCE_LEN = 1200  # Only split if silence > 1.2s\n",
    "SILENCE_THRESH = -35    # More tolerant to quiet voices\n",
    "\n",
    "# Load full audio\n",
    "audio = AudioSegment.from_file(INPUT_FILE)\n",
    "\n",
    "# Optional: Normalize volume\n",
    "audio = audio.normalize()\n",
    "\n",
    "# Split by silence\n",
    "chunks = silence.split_on_silence(\n",
    "    audio,\n",
    "    min_silence_len=MIN_SILENCE_LEN,\n",
    "    silence_thresh=SILENCE_THRESH,\n",
    "    keep_silence=300\n",
    ")\n",
    "\n",
    "print(f\"🧩 Detected {len(chunks)} chunks. Expected 40.\")\n",
    "\n",
    "# Warn if over/under split\n",
    "if len(chunks) > 45:\n",
    "    print(\"⚠️ Too many splits — try increasing MIN_SILENCE_LEN or decreasing SILENCE_THRESH.\")\n",
    "elif len(chunks) < 35:\n",
    "    print(\"⚠️ Too few splits — try decreasing MIN_SILENCE_LEN or lowering SILENCE_THRESH.\")\n",
    "\n",
    "# Save to files\n",
    "for i, chunk in enumerate(chunks):\n",
    "    filename = os.path.join(OUTPUT_DIR, f\"q{i+1:02d}.wav\")\n",
    "    chunk.export(filename, format=\"wav\")\n",
    "    print(f\"💾 Saved: {filename}\")\n"
   ]
  },
  {
   "cell_type": "code",
   "execution_count": 9,
   "metadata": {},
   "outputs": [
    {
     "name": "stdout",
     "output_type": "stream",
     "text": [
      "🎯 Suspect chunks that may contain double questions:\n",
      " - q22.wav: 8.01 seconds\n",
      " - q35.wav: 7.52 seconds\n"
     ]
    }
   ],
   "source": [
    "from pydub import AudioSegment\n",
    "import os\n",
    "\n",
    "chunk_dir = \"eval/queries_audio\"\n",
    "chunks = sorted([f for f in os.listdir(chunk_dir) if f.endswith(\".wav\")])\n",
    "\n",
    "# Find longest 2 chunks (likely suspects)\n",
    "longest_chunks = sorted(chunks, key=lambda f: AudioSegment.from_wav(os.path.join(chunk_dir, f)).duration_seconds, reverse=True)[:2]\n",
    "\n",
    "print(\"🎯 Suspect chunks that may contain double questions:\")\n",
    "for f in longest_chunks:\n",
    "    dur = AudioSegment.from_wav(os.path.join(chunk_dir, f)).duration_seconds\n",
    "    print(f\" - {f}: {dur:.2f} seconds\")\n"
   ]
  },
  {
   "cell_type": "code",
   "execution_count": 10,
   "metadata": {},
   "outputs": [
    {
     "name": "stdout",
     "output_type": "stream",
     "text": [
      "✅ Split q35.wav into q35 and q36\n"
     ]
    }
   ],
   "source": [
    "from pydub import AudioSegment\n",
    "\n",
    "original = AudioSegment.from_wav(\"eval/queries_audio/q35.wav\")\n",
    "midpoint = len(original) // 2  # crude but effective split\n",
    "\n",
    "first_half = original[:midpoint]\n",
    "second_half = original[midpoint:]\n",
    "\n",
    "first_half.export(\"eval/queries_audio/q35.wav\", format=\"wav\")\n",
    "second_half.export(\"eval/queries_audio/q36.wav\", format=\"wav\")\n",
    "\n",
    "print(\"✅ Split q35.wav into q35 and q36\")\n"
   ]
  },
  {
   "cell_type": "code",
   "execution_count": 11,
   "metadata": {},
   "outputs": [
    {
     "name": "stdout",
     "output_type": "stream",
     "text": [
      "🔁 Renamed q39.wav → q40.wav\n",
      "🔁 Renamed q38.wav → q39.wav\n",
      "🔁 Renamed q37.wav → q38.wav\n",
      "🔁 Renamed q36.wav → q37.wav\n"
     ]
    }
   ],
   "source": [
    "import os\n",
    "from pathlib import Path\n",
    "\n",
    "audio_dir = Path(\"eval/queries_audio\")\n",
    "\n",
    "# Start renaming from the highest index down to avoid overwriting\n",
    "for i in range(40, 35, -1):  # q40 → q36\n",
    "    src = audio_dir / f\"q{i:02d}.wav\"\n",
    "    dst = audio_dir / f\"q{i+1:02d}.wav\"\n",
    "    if src.exists():\n",
    "        os.rename(src, dst)\n",
    "        print(f\"🔁 Renamed {src.name} → {dst.name}\")\n"
   ]
  },
  {
   "cell_type": "code",
   "execution_count": null,
   "metadata": {},
   "outputs": [],
   "source": []
  }
 ],
 "metadata": {
  "kernelspec": {
   "display_name": "venv",
   "language": "python",
   "name": "python3"
  },
  "language_info": {
   "codemirror_mode": {
    "name": "ipython",
    "version": 3
   },
   "file_extension": ".py",
   "mimetype": "text/x-python",
   "name": "python",
   "nbconvert_exporter": "python",
   "pygments_lexer": "ipython3",
   "version": "3.11.9"
  }
 },
 "nbformat": 4,
 "nbformat_minor": 2
}
